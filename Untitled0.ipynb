{
 "metadata": {
  "name": "",
  "signature": "sha256:b1d4edbbf878c83c2b5e4a24fe5d3071218d236af7cd2fa1212bc79586df6fc1"
 },
 "nbformat": 3,
 "nbformat_minor": 0,
 "worksheets": [
  {
   "cells": [
    {
     "cell_type": "code",
     "collapsed": false,
     "input": [
      "%pylab osx\n",
      "try:\n",
      "    reload(pvlparser)\n",
      "except:\n",
      "    \n",
      "    import pvlparser\n",
      "from ast import literal_eval\n",
      "from collections import OrderedDict\n",
      "from itertools import islice\n",
      "import json\n",
      "import re\n",
      "\n",
      "import numpy as np\n",
      "import tables as tb\n",
      "import pandas as pd\n",
      "\n",
      "import time\n",
      "\n"
     ],
     "language": "python",
     "metadata": {},
     "outputs": [
      {
       "output_type": "stream",
       "stream": "stdout",
       "text": [
        "Populating the interactive namespace from numpy and matplotlib\n"
       ]
      }
     ],
     "prompt_number": 3
    },
    {
     "cell_type": "code",
     "collapsed": false,
     "input": [
      "inpvl='bigpvl.net'"
     ],
     "language": "python",
     "metadata": {},
     "outputs": [],
     "prompt_number": 4
    },
    {
     "cell_type": "code",
     "collapsed": false,
     "input": [
      "fileend = re.compile(r\"\\bEnd\\b\", re.IGNORECASE)\n",
      "objstart = re.compile(r\"\\s*\\bObject\\b\")\n",
      "objend = re.compile(r\"\\s*\\bEnd_Object\\b\")\n",
      "groupstart = re.compile(r\"\\s*Group\\b\")\n",
      "groupend = re.compile(r\"\\s*End_Group\\b\")\n",
      "\n",
      "comment = re.compile(r\"\\s*#\")\n",
      "altcomment = re.compile(r\"\\s*/\\*\")\n",
      "whitespace = re.compile(r\"^\\s*$\")\n",
      "\n",
      "cnet = OrderedDict()\n",
      "cnet['ControlPoints'] = []\n",
      "with open(inpvl, 'r') as f:\n",
      "    for i, line in enumerate(f):\n",
      "        if whitespace.match(line):\n",
      "            continue\n",
      "        elif fileend.match(line):\n",
      "            break\n",
      "        elif groupend.match(line):\n",
      "            current_load_point = previous_load_point\n",
      "        elif objend.match(line):\n",
      "            continue\n",
      "        elif objstart.match(line):\n",
      "            objkey = re.split('=', line.rstrip())[-1].strip()\n",
      "            if objkey == 'ControlNetwork':\n",
      "                cnet['ControlNetwork'] = {}\n",
      "                current_load_point = cnet['ControlNetwork']\n",
      "            elif objkey == 'ControlPoint':\n",
      "                cnet['ControlPoints'].append({})\n",
      "                current_load_point = cnet['ControlPoints'][-1]\n",
      "        elif groupstart.match(line):\n",
      "            previous_load_point = current_load_point\n",
      "            grpkey = re.split('=', line.rstrip())[-1].strip()            \n",
      "            if grpkey not in current_load_point:\n",
      "                current_load_point[grpkey] = [{}]\n",
      "            else:\n",
      "                current_load_point[grpkey].append({})\n",
      "            \n",
      "            current_load_point = current_load_point[grpkey][-1]\n",
      "        else:\n",
      "            data = re.split('=', line.rstrip())\n",
      "            base = data[1].strip()\n",
      "            if data[1].endswith('-'):\n",
      "                continuation = True\n",
      "                while continuation:\n",
      "                    for l in islice(f,1):\n",
      "                        base = base[:-1] + l.rstrip().strip()\n",
      "                        if not l.endswith('-'):\n",
      "                            continuation = False\n",
      "            elif data[1].endswith(','):\n",
      "                continuation = True\n",
      "                while continuation:\n",
      "                    for l in islice(f, 1):\n",
      "                        base = base + l.rstrip().strip()\n",
      "                        if l.rstrip().endswith(')'):\n",
      "                            continuation = False\n",
      "            try:\n",
      "                base = literal_eval(base.split('<')[0].strip())\n",
      "            except:\n",
      "                pass\n",
      "            if isinstance(current_load_point, dict):\n",
      "                current_load_point[data[0].strip()] = base\n",
      "            elif isinstance(current_load_point, list):\n",
      "                current_load_point.append({data[0].strip():base})        "
     ],
     "language": "python",
     "metadata": {},
     "outputs": [],
     "prompt_number": 5
    },
    {
     "cell_type": "code",
     "collapsed": false,
     "input": [
      "print cnet.keys()"
     ],
     "language": "python",
     "metadata": {},
     "outputs": [
      {
       "output_type": "stream",
       "stream": "stdout",
       "text": [
        "['ControlPoints', 'ControlNetwork']\n"
       ]
      }
     ],
     "prompt_number": 6
    },
    {
     "cell_type": "code",
     "collapsed": false,
     "input": [
      "keys = set([])\n",
      "for i in cnet['ControlPoints']:\n",
      "        for j in i.keys():\n",
      "            keys.add(j)\n",
      "            for k in i['ControlMeasure']:\n",
      "                for l in k.keys():\n",
      "                    keys.add(l)\n",
      "print keys"
     ],
     "language": "python",
     "metadata": {},
     "outputs": [
      {
       "output_type": "stream",
       "stream": "stdout",
       "text": [
        "set(['SerialNumber', 'AprioriRadiusSource', 'DateTime', 'ChooserName', '# AdjustedLongitude', '# AprioriRadius', '# AdjustedLatitudeSigma', 'AprioriSample', '# AdjustedRadius', 'PointType', 'MaximumPixelZScore', 'AprioriLine', 'MinimumPixelZScore', 'ControlMeasure', 'AprioriY', 'AprioriXYZSource', 'AdjustedCovarianceMatrix', '# AprioriLongitude', 'LineResidual', '# AprioriLatitude', 'Line', 'MeasureType', 'Reference', 'PointId', 'AdjustedZ', 'AdjustedY', 'AdjustedX', 'Sample', 'GoodnessOfFit', 'AprioriX', '# AdjustedLatitude', 'AprioriZ', 'SampleResidual'])\n"
       ]
      }
     ],
     "prompt_number": 14
    },
    {
     "cell_type": "code",
     "collapsed": false,
     "input": [],
     "language": "python",
     "metadata": {},
     "outputs": []
    }
   ],
   "metadata": {}
  }
 ]
}