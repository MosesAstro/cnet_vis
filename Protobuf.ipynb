{
 "metadata": {
  "name": "",
  "signature": "sha256:52f79c12e27c53998938fa8f0021510f663f90fd988abea7e8f394c284a88178"
 },
 "nbformat": 3,
 "nbformat_minor": 0,
 "worksheets": [
  {
   "cells": [
    {
     "cell_type": "code",
     "collapsed": false,
     "input": [
      "import numpy as np"
     ],
     "language": "python",
     "metadata": {},
     "outputs": [],
     "prompt_number": 1
    },
    {
     "cell_type": "code",
     "collapsed": false,
     "input": [
      "!protoc --python_out=./ ControlNetFileV0002.proto"
     ],
     "language": "python",
     "metadata": {},
     "outputs": [],
     "prompt_number": 20
    },
    {
     "cell_type": "code",
     "collapsed": false,
     "input": [
      "!ls"
     ],
     "language": "python",
     "metadata": {},
     "outputs": [
      {
       "output_type": "stream",
       "stream": "stdout",
       "text": [
        "ControlNetFileV0002.proto            Elysium_DayIR_Final_PtId_OddPlus.lis bigpvl.net                           pvlparser.py\r\n",
        "ControlNetFileV0002_pb2.py           Protobuf.ipynb                       fred_cnet.h5                         pvlparser.pyc\r\n",
        "ControlNetFileV0002_pb2.pyc          Untitled0.ipynb                      fred_pvl.net                         test.cnet\r\n",
        "Elysium_DayIR_Final.net              VisualizationTrials.ipynb            largehdf5.h5                         test_cnet.h5\r\n"
       ]
      }
     ],
     "prompt_number": 14
    },
    {
     "cell_type": "code",
     "collapsed": false,
     "input": [
      "import ControlNetFileV0002_pb2 as spec"
     ],
     "language": "python",
     "metadata": {},
     "outputs": [],
     "prompt_number": 2
    },
    {
     "cell_type": "code",
     "collapsed": false,
     "input": [
      "dir(spec)"
     ],
     "language": "python",
     "metadata": {},
     "outputs": [
      {
       "metadata": {},
       "output_type": "pyout",
       "prompt_number": 2,
       "text": [
        "['ControlNetFileHeaderV0002',\n",
        " 'ControlPointFileEntryV0002',\n",
        " 'DESCRIPTOR',\n",
        " '_CONTROLNETFILEHEADERV0002',\n",
        " '_CONTROLPOINTFILEENTRYV0002',\n",
        " '_CONTROLPOINTFILEENTRYV0002_APRIORISOURCE',\n",
        " '_CONTROLPOINTFILEENTRYV0002_MEASURE',\n",
        " '_CONTROLPOINTFILEENTRYV0002_MEASURE_MEASURELOGDATA',\n",
        " '_CONTROLPOINTFILEENTRYV0002_MEASURE_MEASURETYPE',\n",
        " '_CONTROLPOINTFILEENTRYV0002_POINTLOGDATA',\n",
        " '_CONTROLPOINTFILEENTRYV0002_POINTTYPE',\n",
        " '__builtins__',\n",
        " '__doc__',\n",
        " '__file__',\n",
        " '__name__',\n",
        " '__package__',\n",
        " 'descriptor',\n",
        " 'descriptor_pb2',\n",
        " 'message',\n",
        " 'reflection']"
       ]
      }
     ],
     "prompt_number": 2
    },
    {
     "cell_type": "code",
     "collapsed": false,
     "input": [],
     "language": "python",
     "metadata": {},
     "outputs": [
      {
       "metadata": {},
       "output_type": "pyout",
       "prompt_number": 18,
       "text": [
        "<module 'google.protobuf.descriptor_pb2' from '/home/jlaura/anaconda/lib/python2.7/site-packages/google/protobuf/descriptor_pb2.pyc'>"
       ]
      }
     ],
     "prompt_number": 18
    },
    {
     "cell_type": "code",
     "collapsed": false,
     "input": [
      "cpoint = spec.ControlPointFileEntryV0002()"
     ],
     "language": "python",
     "metadata": {},
     "outputs": [],
     "prompt_number": 35
    },
    {
     "cell_type": "code",
     "collapsed": false,
     "input": [
      "with open('Elysium_DayIR_Final.net', 'r') as stream:\n",
      "    header = spec.ControlNetFileHeaderV0002()\n",
      "    stream.seek(65536)  #Why are we doing more custom stuff?\n",
      "    headerbinary = stream.read(513513)\n",
      "    header.ParseFromString(headerbinary)\n",
      "dir(header)"
     ],
     "language": "python",
     "metadata": {},
     "outputs": [
      {
       "metadata": {},
       "output_type": "pyout",
       "prompt_number": 3,
       "text": [
        "['ByteSize',\n",
        " 'CREATED_FIELD_NUMBER',\n",
        " 'Clear',\n",
        " 'ClearExtension',\n",
        " 'ClearField',\n",
        " 'CopyFrom',\n",
        " 'DESCRIPTION_FIELD_NUMBER',\n",
        " 'DESCRIPTOR',\n",
        " 'FindInitializationErrors',\n",
        " 'FromString',\n",
        " 'HasExtension',\n",
        " 'HasField',\n",
        " 'IsInitialized',\n",
        " 'LASTMODIFIED_FIELD_NUMBER',\n",
        " 'ListFields',\n",
        " 'MergeFrom',\n",
        " 'MergeFromString',\n",
        " 'NETWORKID_FIELD_NUMBER',\n",
        " 'POINTMESSAGESIZES_FIELD_NUMBER',\n",
        " 'ParseFromString',\n",
        " 'RegisterExtension',\n",
        " 'SerializePartialToString',\n",
        " 'SerializeToString',\n",
        " 'SetInParent',\n",
        " 'TARGETNAME_FIELD_NUMBER',\n",
        " 'USERNAME_FIELD_NUMBER',\n",
        " 'WhichOneof',\n",
        " '_InternalParse',\n",
        " '_InternalSerialize',\n",
        " '_Modified',\n",
        " '_SetListener',\n",
        " '_UpdateOneofState',\n",
        " '__class__',\n",
        " '__deepcopy__',\n",
        " '__delattr__',\n",
        " '__doc__',\n",
        " '__eq__',\n",
        " '__format__',\n",
        " '__getattribute__',\n",
        " '__getstate__',\n",
        " '__hash__',\n",
        " '__init__',\n",
        " '__metaclass__',\n",
        " '__module__',\n",
        " '__ne__',\n",
        " '__new__',\n",
        " '__reduce__',\n",
        " '__reduce_ex__',\n",
        " '__repr__',\n",
        " '__setattr__',\n",
        " '__setstate__',\n",
        " '__sizeof__',\n",
        " '__slots__',\n",
        " '__str__',\n",
        " '__subclasshook__',\n",
        " '__unicode__',\n",
        " '__weakref__',\n",
        " '_cached_byte_size',\n",
        " '_cached_byte_size_dirty',\n",
        " '_decoders_by_tag',\n",
        " '_extensions_by_name',\n",
        " '_extensions_by_number',\n",
        " '_fields',\n",
        " '_is_present_in_parent',\n",
        " '_listener',\n",
        " '_listener_for_children',\n",
        " '_oneofs',\n",
        " '_unknown_fields',\n",
        " 'created',\n",
        " 'description',\n",
        " 'lastModified',\n",
        " 'networkId',\n",
        " 'pointMessageSizes',\n",
        " 'targetName',\n",
        " 'userName']"
       ]
      }
     ],
     "prompt_number": 3
    },
    {
     "cell_type": "code",
     "collapsed": false,
     "input": [
      "print header.created\n",
      "print header.description\n",
      "print header.lastModified\n",
      "print header.networkId\n",
      "print header.targetName\n",
      "print header.userName"
     ],
     "language": "python",
     "metadata": {},
     "outputs": [
      {
       "output_type": "stream",
       "stream": "stdout",
       "text": [
        "2014-01-23T13:11:42\n",
        "Themis Day IR Network: Elysium, Lat(0,30) Lon(135,180)\n",
        "2014-01-23T13:11:42\n",
        "ELYSIUM_THEMIS_DIR\n",
        "MARS\n",
        "lweller\n"
       ]
      }
     ],
     "prompt_number": 4
    },
    {
     "cell_type": "code",
     "collapsed": false,
     "input": [
      "binarysizes = header.pointMessageSizes\n",
      "offsets = np.array(binarysizes)\n",
      "#Because of the way the data is setup, we have to loop over stuff.  This is inefficient.\n",
      "with open('Elysium_DayIR_Final.net', 'r') as stream:\n",
      "    stream.seek(579049)\n",
      "    for o in offsets:\n",
      "        binary = stream.read(o)\n",
      "        cp = spec.ControlPointFileEntryV0002()\n",
      "        cp.ParseFromString(binary)\n",
      "        \n",
      "        print cp\n",
      "        \n",
      "        break"
     ],
     "language": "python",
     "metadata": {},
     "outputs": [
      {
       "output_type": "stream",
       "stream": "stdout",
       "text": [
        "id: \"I00819004RDR_UL_ELYS\"\n",
        "type: Free\n",
        "chooserName: \"cnetadd\"\n",
        "datetime: \"2014-01-23T15:15:28\"\n",
        "referenceIndex: 1\n",
        "aprioriSurfPointSource: AverageOfMeasures\n",
        "aprioriRadiusSource: AverageOfMeasures\n",
        "aprioriX: -2250655.60955\n",
        "aprioriY: 1849759.84554\n",
        "aprioriZ: 1731621.37153\n",
        "adjustedX: -2250865.82631\n",
        "adjustedY: 1849802.32559\n",
        "adjustedZ: 1731302.64803\n",
        "adjustedCovar: 4006.26591642\n",
        "adjustedCovar: 2598.555887\n",
        "adjustedCovar: 2432.10631515\n",
        "adjustedCovar: 5032.99957344\n",
        "adjustedCovar: -1999.04207258\n",
        "adjustedCovar: 5297.76109453\n",
        "measures {\n",
        "  serialnumber: \"Odyssey/THEMIS_IR/778003082.179\"\n",
        "  type: RegisteredSubPixel\n",
        "  sample: 243.376429867\n",
        "  line: 1617.43436298\n",
        "  sampleResidual: -0.0650726205353\n",
        "  lineResidual: -0.168569600545\n",
        "  choosername: \"jigsaw\"\n",
        "  datetime: \"2014-01-23T15:15:28\"\n",
        "  apriorisample: 243.821159002\n",
        "  aprioriline: 1621.14091843\n",
        "  log {\n",
        "    doubleDataType: 3\n",
        "    doubleDataValue: -5.99680492111\n",
        "  }\n",
        "  log {\n",
        "    doubleDataType: 4\n",
        "    doubleDataValue: 7.24342669299\n",
        "  }\n",
        "  log {\n",
        "    doubleDataType: 2\n",
        "    doubleDataValue: 0.745220735968\n",
        "  }\n",
        "}\n",
        "measures {\n",
        "  serialnumber: \"Odyssey/THEMIS_IR/828161248.204\"\n",
        "  type: Candidate\n",
        "  sample: 50.0\n",
        "  line: 3967.0\n",
        "  sampleResidual: 0.0555992463979\n",
        "  lineResidual: -0.00674845447175\n",
        "  choosername: \"jigsaw\"\n",
        "  datetime: \"2014-01-23T15:15:28\"\n",
        "  apriorisample: 53.631542026\n",
        "  aprioriline: 3951.6424935\n",
        "}\n",
        "measures {\n",
        "  serialnumber: \"Odyssey/THEMIS_IR/892790739.025\"\n",
        "  type: RegisteredSubPixel\n",
        "  sample: 254.375549381\n",
        "  line: 2583.73545506\n",
        "  sampleResidual: 0.00955658835818\n",
        "  lineResidual: 0.174277994483\n",
        "  choosername: \"jigsaw\"\n",
        "  datetime: \"2014-01-23T15:15:28\"\n",
        "  apriorisample: 255.072180248\n",
        "  aprioriline: 2583.63443331\n",
        "  log {\n",
        "    doubleDataType: 3\n",
        "    doubleDataValue: -5.99680492111\n",
        "  }\n",
        "  log {\n",
        "    doubleDataType: 4\n",
        "    doubleDataValue: 7.24342669299\n",
        "  }\n",
        "  log {\n",
        "    doubleDataType: 2\n",
        "    doubleDataValue: 0.83947965699\n",
        "  }\n",
        "}\n",
        "\n"
       ]
      }
     ],
     "prompt_number": 5
    },
    {
     "cell_type": "code",
     "collapsed": false,
     "input": [
      "#ControlPoint\n",
      "iden = cp.id #String\n",
      "pointtype = cp.PointType.items() #Struct\n",
      "\n",
      "choosername = cp.chooserName #String\n",
      "datetime = cp.datetime #String (Should be datetime)\n",
      "editlock = cp.editLock #Bool\n",
      "ignore = cp.ignore #Bool\n",
      "jigsawrejected = cp.jigsawRejected #bool\n",
      "referenceindex = cp.referenceIndex #int32\n",
      "\n",
      "apriorisurfacepointsource = cp.AprioriSource\n",
      "apriorisurfacepointsourcefile = cp.aprioriSurfPointSourceFile #String\n",
      "aprioriradiussource = cp.aprioriRadiusSource\n",
      "aprioriradiussourcefile = cp.aprioriRadiusSourceFile #String\n",
      "latitudeconstrained = cp.latitudeConstrained #bool\n",
      "longitudeconstrained = cp.longitudeConstrained #bool\n",
      "radiusconstrained = cp.radiusConstrained #bool\n",
      "apriorix = cp.aprioriX #Double\n",
      "aprioriy = cp.aprioriY #Double\n",
      "aprioriz = cp.aprioriZ #Double\n",
      "\n",
      "aprioricovar = cp.aprioriCovar  #3x3\n",
      "\n",
      "ajustedx = cp.adjustedX #Double\n",
      "adjustedy = cp.adjustedY #Double\n",
      "adjsutedz = cp.adjustedZ #Double\n",
      "\n",
      "adjustedcovar = cp.adjustedCovar"
     ],
     "language": "python",
     "metadata": {},
     "outputs": [
      {
       "output_type": "stream",
       "stream": "stdout",
       "text": [
        "[4006.265916424964, 2598.555886997217, 2432.1063151480694, 5032.999573439287, -1999.0420725803092, 5297.761094529079]\n"
       ]
      }
     ],
     "prompt_number": 103
    },
    {
     "cell_type": "code",
     "collapsed": false,
     "input": [
      "for m in cp.measures:\n",
      "    print dir(m)\n",
      "    break"
     ],
     "language": "python",
     "metadata": {},
     "outputs": [
      {
       "output_type": "stream",
       "stream": "stdout",
       "text": [
        "['APRIORILINE_FIELD_NUMBER', 'APRIORISAMPLE_FIELD_NUMBER', 'ByteSize', 'CHOOSERNAME_FIELD_NUMBER', 'Candidate', 'Clear', 'ClearExtension', 'ClearField', 'CopyFrom', 'DATETIME_FIELD_NUMBER', 'DESCRIPTOR', 'DIAMETER_FIELD_NUMBER', 'EDITLOCK_FIELD_NUMBER', 'FindInitializationErrors', 'FromString', 'HasExtension', 'HasField', 'IGNORE_FIELD_NUMBER', 'IsInitialized', 'JIGSAWREJECTED_FIELD_NUMBER', 'LINERESIDUAL_FIELD_NUMBER', 'LINESIGMA_FIELD_NUMBER', 'LINE_FIELD_NUMBER', 'LOG_FIELD_NUMBER', 'ListFields', 'Manual', 'MeasureLogData', 'MeasureType', 'MergeFrom', 'MergeFromString', 'ParseFromString', 'RegisterExtension', 'RegisteredPixel', 'RegisteredSubPixel', 'SAMPLERESIDUAL_FIELD_NUMBER', 'SAMPLESIGMA_FIELD_NUMBER', 'SAMPLE_FIELD_NUMBER', 'SERIALNUMBER_FIELD_NUMBER', 'SerializePartialToString', 'SerializeToString', 'SetInParent', 'TYPE_FIELD_NUMBER', 'WhichOneof', '_InternalParse', '_InternalSerialize', '_Modified', '_SetListener', '_UpdateOneofState', '__class__', '__deepcopy__', '__delattr__', '__doc__', '__eq__', '__format__', '__getattribute__', '__getstate__', '__hash__', '__init__', '__metaclass__', '__module__', '__ne__', '__new__', '__reduce__', '__reduce_ex__', '__repr__', '__setattr__', '__setstate__', '__sizeof__', '__slots__', '__str__', '__subclasshook__', '__unicode__', '__weakref__', '_cached_byte_size', '_cached_byte_size_dirty', '_decoders_by_tag', '_extensions_by_name', '_extensions_by_number', '_fields', '_is_present_in_parent', '_listener', '_listener_for_children', '_oneofs', '_unknown_fields', 'aprioriline', 'apriorisample', 'choosername', 'datetime', 'diameter', 'editLock', 'ignore', 'jigsawRejected', 'line', 'lineResidual', 'linesigma', 'log', 'sample', 'sampleResidual', 'samplesigma', 'serialnumber', 'type']\n"
       ]
      }
     ],
     "prompt_number": 107
    },
    {
     "cell_type": "code",
     "collapsed": false,
     "input": [
      "print cp.EDITLOCK_FIELD_NUMBER"
     ],
     "language": "python",
     "metadata": {},
     "outputs": [
      {
       "output_type": "stream",
       "stream": "stdout",
       "text": [
        "5\n"
       ]
      }
     ],
     "prompt_number": 110
    },
    {
     "cell_type": "code",
     "collapsed": false,
     "input": [
      "cpoint.adjustedX"
     ],
     "language": "python",
     "metadata": {},
     "outputs": [
      {
       "metadata": {},
       "output_type": "pyout",
       "prompt_number": 10,
       "text": [
        "-2250865.826309549"
       ]
      }
     ],
     "prompt_number": 10
    },
    {
     "cell_type": "code",
     "collapsed": false,
     "input": [
      "cpoint.measures"
     ],
     "language": "python",
     "metadata": {},
     "outputs": [
      {
       "metadata": {},
       "output_type": "pyout",
       "prompt_number": 11,
       "text": [
        "[<ControlNetFileV0002_pb2.Measure object at 0x103fd0230>, <ControlNetFileV0002_pb2.Measure object at 0x103fd0578>, <ControlNetFileV0002_pb2.Measure object at 0x103fd05f0>]"
       ]
      }
     ],
     "prompt_number": 11
    },
    {
     "cell_type": "code",
     "collapsed": false,
     "input": [
      "dir(cpoint.measures[0])"
     ],
     "language": "python",
     "metadata": {},
     "outputs": [
      {
       "metadata": {},
       "output_type": "pyout",
       "prompt_number": 12,
       "text": [
        "['APRIORILINE_FIELD_NUMBER',\n",
        " 'APRIORISAMPLE_FIELD_NUMBER',\n",
        " 'ByteSize',\n",
        " 'CHOOSERNAME_FIELD_NUMBER',\n",
        " 'Candidate',\n",
        " 'Clear',\n",
        " 'ClearExtension',\n",
        " 'ClearField',\n",
        " 'CopyFrom',\n",
        " 'DATETIME_FIELD_NUMBER',\n",
        " 'DESCRIPTOR',\n",
        " 'DIAMETER_FIELD_NUMBER',\n",
        " 'EDITLOCK_FIELD_NUMBER',\n",
        " 'FindInitializationErrors',\n",
        " 'FromString',\n",
        " 'HasExtension',\n",
        " 'HasField',\n",
        " 'IGNORE_FIELD_NUMBER',\n",
        " 'IsInitialized',\n",
        " 'JIGSAWREJECTED_FIELD_NUMBER',\n",
        " 'LINERESIDUAL_FIELD_NUMBER',\n",
        " 'LINESIGMA_FIELD_NUMBER',\n",
        " 'LINE_FIELD_NUMBER',\n",
        " 'LOG_FIELD_NUMBER',\n",
        " 'ListFields',\n",
        " 'Manual',\n",
        " 'MeasureLogData',\n",
        " 'MeasureType',\n",
        " 'MergeFrom',\n",
        " 'MergeFromString',\n",
        " 'ParseFromString',\n",
        " 'RegisterExtension',\n",
        " 'RegisteredPixel',\n",
        " 'RegisteredSubPixel',\n",
        " 'SAMPLERESIDUAL_FIELD_NUMBER',\n",
        " 'SAMPLESIGMA_FIELD_NUMBER',\n",
        " 'SAMPLE_FIELD_NUMBER',\n",
        " 'SERIALNUMBER_FIELD_NUMBER',\n",
        " 'SerializePartialToString',\n",
        " 'SerializeToString',\n",
        " 'SetInParent',\n",
        " 'TYPE_FIELD_NUMBER',\n",
        " 'WhichOneof',\n",
        " '_InternalParse',\n",
        " '_InternalSerialize',\n",
        " '_Modified',\n",
        " '_SetListener',\n",
        " '_UpdateOneofState',\n",
        " '__class__',\n",
        " '__deepcopy__',\n",
        " '__delattr__',\n",
        " '__doc__',\n",
        " '__eq__',\n",
        " '__format__',\n",
        " '__getattribute__',\n",
        " '__getstate__',\n",
        " '__hash__',\n",
        " '__init__',\n",
        " '__metaclass__',\n",
        " '__module__',\n",
        " '__ne__',\n",
        " '__new__',\n",
        " '__reduce__',\n",
        " '__reduce_ex__',\n",
        " '__repr__',\n",
        " '__setattr__',\n",
        " '__setstate__',\n",
        " '__sizeof__',\n",
        " '__slots__',\n",
        " '__str__',\n",
        " '__subclasshook__',\n",
        " '__unicode__',\n",
        " '__weakref__',\n",
        " '_cached_byte_size',\n",
        " '_cached_byte_size_dirty',\n",
        " '_decoders_by_tag',\n",
        " '_extensions_by_name',\n",
        " '_extensions_by_number',\n",
        " '_fields',\n",
        " '_is_present_in_parent',\n",
        " '_listener',\n",
        " '_listener_for_children',\n",
        " '_oneofs',\n",
        " '_unknown_fields',\n",
        " 'aprioriline',\n",
        " 'apriorisample',\n",
        " 'choosername',\n",
        " 'datetime',\n",
        " 'diameter',\n",
        " 'editLock',\n",
        " 'ignore',\n",
        " 'jigsawRejected',\n",
        " 'line',\n",
        " 'lineResidual',\n",
        " 'linesigma',\n",
        " 'log',\n",
        " 'sample',\n",
        " 'sampleResidual',\n",
        " 'samplesigma',\n",
        " 'serialnumber',\n",
        " 'type']"
       ]
      }
     ],
     "prompt_number": 12
    },
    {
     "cell_type": "code",
     "collapsed": false,
     "input": [],
     "language": "python",
     "metadata": {},
     "outputs": []
    }
   ],
   "metadata": {}
  }
 ]
}